{
 "cells": [
  {
   "cell_type": "code",
   "execution_count": 2,
   "metadata": {},
   "outputs": [],
   "source": [
    "import json\n",
    "import os"
   ]
  },
  {
   "cell_type": "code",
   "execution_count": 15,
   "metadata": {},
   "outputs": [],
   "source": [
    "json_path = 'EditData'\n",
    "jsons = []\n",
    "first_round_only = []\n",
    "for root, dirs, files in os.walk(json_path):\n",
    "    for name in files:\n",
    "        if name.endswith('json'):\n",
    "            jsons.append(os.path.join(root, name))\n",
    "            if not name.endswith('nd.json'):\n",
    "                first_round_only.append(os.path.join(root, name))\n",
    "\n"
   ]
  },
  {
   "cell_type": "code",
   "execution_count": 16,
   "metadata": {},
   "outputs": [
    {
     "data": {
      "text/plain": [
       "['EditData/ColorAlteration/ColorAlteration.json',\n",
       " 'EditData/ColorAlteration/ColorAlteration_4nd.json',\n",
       " 'EditData/ColorAlteration/ColorAlteration_3nd.json',\n",
       " 'EditData/ColorAlteration/ColorAlteration_5nd.json',\n",
       " 'EditData/ColorAlteration/ColorAlteration_2nd.json',\n",
       " 'EditData/Lowlight/Lowlight.json',\n",
       " 'EditData/RegionAccuracy/RegionAccuracy.json',\n",
       " 'EditData/StyleAlteration/StyleAlteration_3nd.json',\n",
       " 'EditData/StyleAlteration/StyleAlteration_5nd.json',\n",
       " 'EditData/StyleAlteration/StyleAlteration_2nd.json',\n",
       " 'EditData/StyleAlteration/StyleAlteration.json',\n",
       " 'EditData/StyleAlteration/StyleAlteration_4nd.json',\n",
       " 'EditData/HazeRemoval/HazeRemoval.json',\n",
       " 'EditData/DirectionPerception/DirectionPerception_2nd.json',\n",
       " 'EditData/DirectionPerception/DirectionPerception_3nd.json',\n",
       " 'EditData/DirectionPerception/DirectionPerception.json',\n",
       " 'EditData/DirectionPerception/DirectionPerception_4nd.json',\n",
       " 'EditData/DirectionPerception/DirectionPerception_5nd.json',\n",
       " 'EditData/BGReplacement/BGReplacement.json',\n",
       " 'EditData/BGReplacement/BGReplacement_4nd.json',\n",
       " 'EditData/BGReplacement/BGReplacement_2nd.json',\n",
       " 'EditData/BGReplacement/BGReplacement_3nd.json',\n",
       " 'EditData/BGReplacement/BGReplacement_5nd.json',\n",
       " 'EditData/Counting/Counting_4nd.json',\n",
       " 'EditData/Counting/Counting_3nd.json',\n",
       " 'EditData/Counting/Counting_2nd.json',\n",
       " 'EditData/Counting/Counting_5nd.json',\n",
       " 'EditData/Counting/Counting.json',\n",
       " 'EditData/WatermarkRemoval/WatermarkRemoval.json',\n",
       " 'EditData/ShadowRemoval/ShadowRemoval.json',\n",
       " 'EditData/ObjectRemoval/ObjectRemoval.json',\n",
       " 'EditData/ObjectRemoval/ObjectRemoval_2nd.json',\n",
       " 'EditData/ObjectRemoval/ObjectRemoval_5nd.json',\n",
       " 'EditData/ObjectRemoval/ObjectRemoval_4nd.json',\n",
       " 'EditData/ObjectRemoval/ObjectRemoval_3nd.json',\n",
       " 'EditData/RainRemoval/RainRemoval.json',\n",
       " 'EditData/SnowRemoval/SnowRemoval.json',\n",
       " 'EditData/Replacement/Replacement_2nd.json',\n",
       " 'EditData/Replacement/Replacement_4nd.json',\n",
       " 'EditData/Replacement/Replacement.json',\n",
       " 'EditData/Replacement/Replacement_3nd.json',\n",
       " 'EditData/Replacement/Replacement_5nd.json',\n",
       " 'EditData/NoiseRemoval/NoiseRemoval.json',\n",
       " 'EditData/Deblurring/Deblurring.json']"
      ]
     },
     "execution_count": 16,
     "metadata": {},
     "output_type": "execute_result"
    }
   ],
   "source": [
    "jsons"
   ]
  },
  {
   "cell_type": "code",
   "execution_count": 17,
   "metadata": {},
   "outputs": [
    {
     "data": {
      "text/plain": [
       "['EditData/ColorAlteration/ColorAlteration.json',\n",
       " 'EditData/Lowlight/Lowlight.json',\n",
       " 'EditData/RegionAccuracy/RegionAccuracy.json',\n",
       " 'EditData/StyleAlteration/StyleAlteration.json',\n",
       " 'EditData/HazeRemoval/HazeRemoval.json',\n",
       " 'EditData/DirectionPerception/DirectionPerception.json',\n",
       " 'EditData/BGReplacement/BGReplacement.json',\n",
       " 'EditData/Counting/Counting.json',\n",
       " 'EditData/WatermarkRemoval/WatermarkRemoval.json',\n",
       " 'EditData/ShadowRemoval/ShadowRemoval.json',\n",
       " 'EditData/ObjectRemoval/ObjectRemoval.json',\n",
       " 'EditData/RainRemoval/RainRemoval.json',\n",
       " 'EditData/SnowRemoval/SnowRemoval.json',\n",
       " 'EditData/Replacement/Replacement.json',\n",
       " 'EditData/NoiseRemoval/NoiseRemoval.json',\n",
       " 'EditData/Deblurring/Deblurring.json']"
      ]
     },
     "execution_count": 17,
     "metadata": {},
     "output_type": "execute_result"
    }
   ],
   "source": [
    "first_round_only"
   ]
  },
  {
   "cell_type": "code",
   "execution_count": 18,
   "metadata": {},
   "outputs": [
    {
     "data": {
      "text/plain": [
       "3391"
      ]
     },
     "execution_count": 18,
     "metadata": {},
     "output_type": "execute_result"
    }
   ],
   "source": [
    "multi_cnt = 0\n",
    "for j in jsons:\n",
    "    with open(j, 'r') as f:\n",
    "        file = json.load(f)\n",
    "        multi_cnt += len(file.keys())\n",
    "multi_cnt"
   ]
  },
  {
   "cell_type": "code",
   "execution_count": 19,
   "metadata": {},
   "outputs": [
    {
     "data": {
      "text/plain": [
       "2218"
      ]
     },
     "execution_count": 19,
     "metadata": {},
     "output_type": "execute_result"
    }
   ],
   "source": [
    "single_cnt = 0\n",
    "for j in first_round_only:\n",
    "    with open(j, 'r') as f:\n",
    "        file = json.load(f)\n",
    "        single_cnt += len(file.keys())\n",
    "single_cnt"
   ]
  },
  {
   "cell_type": "code",
   "execution_count": null,
   "metadata": {},
   "outputs": [],
   "source": []
  }
 ],
 "metadata": {
  "kernelspec": {
   "display_name": "IEdit",
   "language": "python",
   "name": "python3"
  },
  "language_info": {
   "codemirror_mode": {
    "name": "ipython",
    "version": 3
   },
   "file_extension": ".py",
   "mimetype": "text/x-python",
   "name": "python",
   "nbconvert_exporter": "python",
   "pygments_lexer": "ipython3",
   "version": "3.8.19"
  }
 },
 "nbformat": 4,
 "nbformat_minor": 2
}
